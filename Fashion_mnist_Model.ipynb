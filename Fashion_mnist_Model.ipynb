{
 "cells": [
  {
   "cell_type": "code",
   "execution_count": 1,
   "metadata": {
    "colab": {
     "base_uri": "https://localhost:8080/",
     "height": 65
    },
    "colab_type": "code",
    "id": "NdwpPenev4f1",
    "outputId": "0535ed01-92f5-4800-fe44-26a3bb9341f8"
   },
   "outputs": [
    {
     "data": {
      "text/html": [
       "<p style=\"color: red;\">\n",
       "The default version of TensorFlow in Colab will soon switch to TensorFlow 2.x.<br>\n",
       "We recommend you <a href=\"https://www.tensorflow.org/guide/migrate\" target=\"_blank\">upgrade</a> now \n",
       "or ensure your notebook will continue to use TensorFlow 1.x via the <code>%tensorflow_version 1.x</code> magic:\n",
       "<a href=\"https://colab.research.google.com/notebooks/tensorflow_version.ipynb\" target=\"_blank\">more info</a>.</p>\n"
      ],
      "text/plain": [
       "<IPython.core.display.HTML object>"
      ]
     },
     "metadata": {
      "tags": []
     },
     "output_type": "display_data"
    }
   ],
   "source": [
    "import tensorflow as tf\n",
    "from tensorflow import keras"
   ]
  },
  {
   "cell_type": "code",
   "execution_count": 0,
   "metadata": {
    "colab": {},
    "colab_type": "code",
    "id": "o6NNWf0VwCna"
   },
   "outputs": [],
   "source": [
    "mnist = tf.keras.datasets.fashion_mnist"
   ]
  },
  {
   "cell_type": "code",
   "execution_count": 0,
   "metadata": {
    "colab": {},
    "colab_type": "code",
    "id": "I6-qLmzgwSV-"
   },
   "outputs": [],
   "source": [
    "(training_images, training_labels) , (test_images, test_labels) = mnist.load_data()"
   ]
  },
  {
   "cell_type": "code",
   "execution_count": 7,
   "metadata": {
    "colab": {
     "base_uri": "https://localhost:8080/",
     "height": 1000
    },
    "colab_type": "code",
    "id": "J8xIgF1kwgdj",
    "outputId": "7e69676b-07ef-404e-df01-ee124de22154"
   },
   "outputs": [
    {
     "name": "stdout",
     "output_type": "stream",
     "text": [
      "[[  0   0   0   0   0   0   0   0   0   0   0   0   0   0   0   0   0   0\n",
      "    0   0   0   0   0   0   0   0   0   0]\n",
      " [  0   0   0   0   0   0   0   0   0   0   0   0   0   0   0   0   0   0\n",
      "    0   0   0   0   0   0   0   0   0   0]\n",
      " [  0   0   0   0   0   0   0   0   0   0   0   0   0   0   0   0   0   0\n",
      "    0   0   0   0   0   0   0   0   0   0]\n",
      " [  0   0   0   0   0   0   0   0   0   0   0   0   0   0   0   0   0   0\n",
      "    0   0   0   0   0   0   0   0   0   0]\n",
      " [  0   0   0   0   0   0   0   0   0   0   0   0   0   0   0   0   0   0\n",
      "    0   0   0   0   0   0   0   0   0   0]\n",
      " [  0   0   0   0   0   0   0   0   0   0   0   0   0   0   0   0   0   0\n",
      "    0   0   0   0   0   0   0   0   0   0]\n",
      " [  0   0   0   0   0   0   0   0   0   0   0   0   0   0   0   0   0   0\n",
      "    0   0   0   0   0   0   0   0   0   0]\n",
      " [  0   0   0   0   0   0   0   0   0   0   0   0   0   0   0   0   0   0\n",
      "    0   0   0   0   0   0   0   0   0   0]\n",
      " [  0   0   0   0   0   0   0   0   0   0   0   2   0   0  57  40   0   0\n",
      "    0   0   0   1   0   0   3   4   0   0]\n",
      " [  0   0   0   0   0   0   0   0   0   0   3   0   0  69 167 159  80   0\n",
      "    0   4   6   4   7   0   0   0   0   0]\n",
      " [  0   0   0   0   0   0   0   0   0   0   0   0 127 156 123 161 174 156\n",
      "    0   0   0   0   0   0  50 108 149  64]\n",
      " [  0   0   0   0   0   0   0   0   6   0  54 210 132 120 185 126  89 172\n",
      "  186 111  89  79 123 147 135 128 125 102]\n",
      " [  0   0   1   0   1   2   4   0   0   0 156 185   0  21 179 186 114  82\n",
      "  121 153 151 152 129 129 121 116  70   0]\n",
      " [  0   0   0   0   0   0   0   0   0  72 173 162   0   0   0  22 172 151\n",
      "   90 105 110 127 150 121  55   0   0   0]\n",
      " [  1   3   2   0   0  10  78 144 178 199 173 170   0   0   0   0   0 143\n",
      "  180 125 137 156  42   0   0   0   0   1]\n",
      " [  0   0   0   0 109 169 147 123 103 150 200 190   0   0   1   0   0   0\n",
      "   74 123 117  97   0   0   1   0   0   0]\n",
      " [  0  16  25   0 120 129 108 127 111  84 141 229   0   0   0   0  51  85\n",
      "  107 117  98 125 128 141 138 120  93   0]\n",
      " [145 161 121 150 126 114 125 119 117 126  76 176  74  76 145 157 137 120\n",
      "  139 147 153 163 147 143 140 138 170  82]\n",
      " [ 56 193 200 180 156 132 102  85  90  98  93  78 172 150 125 131 167 197\n",
      "  221 227 218 209 208 200 191 179 198  43]\n",
      " [  0   0  81 179 239 254 246 242 215 200 186 198 200 186 204 209 246 228\n",
      "  212 215 238 232 216 214 203 178 230  42]\n",
      " [  0   0   0   0   0   0  50  98 101 159 152 121 135  96  50   0   0   0\n",
      "    0   0  33  70  96 107 107  89  42   0]\n",
      " [  0   0   0   0   0   0   0   0   0   0   0   0   0   0   0   0   0   0\n",
      "    0   0   0   0   0   0   0   0   0   0]\n",
      " [  0   0   0   0   0   0   0   0   0   0   0   0   0   0   0   0   0   0\n",
      "    0   0   0   0   0   0   0   0   0   0]\n",
      " [  0   0   0   0   0   0   0   0   0   0   0   0   0   0   0   0   0   0\n",
      "    0   0   0   0   0   0   0   0   0   0]\n",
      " [  0   0   0   0   0   0   0   0   0   0   0   0   0   0   0   0   0   0\n",
      "    0   0   0   0   0   0   0   0   0   0]\n",
      " [  0   0   0   0   0   0   0   0   0   0   0   0   0   0   0   0   0   0\n",
      "    0   0   0   0   0   0   0   0   0   0]\n",
      " [  0   0   0   0   0   0   0   0   0   0   0   0   0   0   0   0   0   0\n",
      "    0   0   0   0   0   0   0   0   0   0]\n",
      " [  0   0   0   0   0   0   0   0   0   0   0   0   0   0   0   0   0   0\n",
      "    0   0   0   0   0   0   0   0   0   0]]\n",
      "5\n"
     ]
    },
    {
     "data": {
      "image/png": "[encoded data removed]",
      "text/plain": [
       "<Figure size 432x288 with 1 Axes>"
      ]
     },
     "metadata": {
      "tags": []
     },
     "output_type": "display_data"
    }
   ],
   "source": [
    "import matplotlib.pyplot as plt\n",
    "plt.imshow(training_images[43]);\n",
    "print(training_images[43])\n",
    "print(training_labels[43])"
   ]
  },
  {
   "cell_type": "code",
   "execution_count": 0,
   "metadata": {
    "colab": {},
    "colab_type": "code",
    "id": "j7I5PKH8w8tu"
   },
   "outputs": [],
   "source": [
    "training_images = training_images/255.0\n",
    "test_images = test_images/255.0"
   ]
  },
  {
   "cell_type": "code",
   "execution_count": 0,
   "metadata": {
    "colab": {},
    "colab_type": "code",
    "id": "XOeIh6EFxa5o"
   },
   "outputs": [],
   "source": [
    "model = tf.keras.models.Sequential([tf.keras.layers.Flatten(),\n",
    "                            tf.keras.layers.Dense(128,activation=tf.nn.relu),\n",
    "                            tf.keras.layers.Dense(10,activation=tf.nn.softmax)])"
   ]
  },
  {
   "cell_type": "code",
   "execution_count": 27,
   "metadata": {
    "colab": {
     "base_uri": "https://localhost:8080/",
     "height": 799
    },
    "colab_type": "code",
    "id": "Vs9QxKaix_Ml",
    "outputId": "5fcc69e3-76c3-4c56-d080-d492e1eaea5d"
   },
   "outputs": [
    {
     "name": "stdout",
     "output_type": "stream",
     "text": [
      "Train on 60000 samples\n",
      "Epoch 1/20\n",
      "60000/60000 [==============================] - 4s 65us/sample - loss: 1.0761 - acc: 0.6627\n",
      "Epoch 2/20\n",
      "60000/60000 [==============================] - 4s 65us/sample - loss: 0.6343 - acc: 0.7716\n",
      "Epoch 3/20\n",
      "60000/60000 [==============================] - 4s 64us/sample - loss: 0.5603 - acc: 0.7990\n",
      "Epoch 4/20\n",
      "60000/60000 [==============================] - 4s 66us/sample - loss: 0.5192 - acc: 0.8164\n",
      "Epoch 5/20\n",
      "60000/60000 [==============================] - 4s 62us/sample - loss: 0.4924 - acc: 0.8257\n",
      "Epoch 6/20\n",
      "60000/60000 [==============================] - 4s 62us/sample - loss: 0.4735 - acc: 0.8334\n",
      "Epoch 7/20\n",
      "60000/60000 [==============================] - 4s 62us/sample - loss: 0.4581 - acc: 0.8382\n",
      "Epoch 8/20\n",
      "60000/60000 [==============================] - 4s 62us/sample - loss: 0.4464 - acc: 0.8418\n",
      "Epoch 9/20\n",
      "60000/60000 [==============================] - 4s 62us/sample - loss: 0.4369 - acc: 0.8458\n",
      "Epoch 10/20\n",
      "60000/60000 [==============================] - 4s 64us/sample - loss: 0.4282 - acc: 0.8486\n",
      "Epoch 11/20\n",
      "60000/60000 [==============================] - 4s 66us/sample - loss: 0.4211 - acc: 0.8517\n",
      "Epoch 12/20\n",
      "60000/60000 [==============================] - 4s 64us/sample - loss: 0.4149 - acc: 0.8543\n",
      "Epoch 13/20\n",
      "60000/60000 [==============================] - 4s 63us/sample - loss: 0.4089 - acc: 0.8559\n",
      "Epoch 14/20\n",
      "60000/60000 [==============================] - 4s 64us/sample - loss: 0.4039 - acc: 0.8588\n",
      "Epoch 15/20\n",
      "60000/60000 [==============================] - 4s 62us/sample - loss: 0.3987 - acc: 0.8602\n",
      "Epoch 16/20\n",
      "60000/60000 [==============================] - 4s 62us/sample - loss: 0.3938 - acc: 0.8612\n",
      "Epoch 17/20\n",
      "60000/60000 [==============================] - 4s 61us/sample - loss: 0.3895 - acc: 0.8633\n",
      "Epoch 18/20\n",
      "60000/60000 [==============================] - 4s 63us/sample - loss: 0.3856 - acc: 0.8642\n",
      "Epoch 19/20\n",
      "60000/60000 [==============================] - 4s 62us/sample - loss: 0.3817 - acc: 0.8649\n",
      "Epoch 20/20\n",
      "60000/60000 [==============================] - 4s 66us/sample - loss: 0.3779 - acc: 0.8668\n"
     ]
    },
    {
     "data": {
      "text/plain": [
       "<tensorflow.python.keras.callbacks.History at 0x7f51f0196d30>"
      ]
     },
     "execution_count": 27,
     "metadata": {
      "tags": []
     },
     "output_type": "execute_result"
    }
   ],
   "source": [
    "model.compile(optimizer = tf.train.AdamOptimizer(),\n",
    "              loss = 'sparse_categorical_crossentropy',\n",
    "              metrics = ['accuracy'])\n",
    "model.fit(training_images,training_labels,epochs = 20)"
   ]
  },
  {
   "cell_type": "code",
   "execution_count": 28,
   "metadata": {
    "colab": {
     "base_uri": "https://localhost:8080/",
     "height": 54
    },
    "colab_type": "code",
    "id": "g1PqmT-6zV5A",
    "outputId": "233ffcda-efe2-44f8-826c-46f9aae5390d"
   },
   "outputs": [
    {
     "name": "stdout",
     "output_type": "stream",
     "text": [
      "10000/10000 [==============================] - 0s 48us/sample - loss: 0.4224 - acc: 0.8469\n"
     ]
    },
    {
     "data": {
      "text/plain": [
       "[0.4224343498945236, 0.8469]"
      ]
     },
     "execution_count": 28,
     "metadata": {
      "tags": []
     },
     "output_type": "execute_result"
    }
   ],
   "source": [
    "model.evaluate(test_images,test_labels)"
   ]
  },
  {
   "cell_type": "code",
   "execution_count": 29,
   "metadata": {
    "colab": {
     "base_uri": "https://localhost:8080/",
     "height": 427
    },
    "colab_type": "code",
    "id": "SW_5AYlK0pSO",
    "outputId": "0807557b-b70d-4044-9f5e-b1bb8f058672"
   },
   "outputs": [
    {
     "name": "stdout",
     "output_type": "stream",
     "text": [
      "Train on 60000 samples\n",
      "Epoch 1/10\n",
      "60000/60000 [==============================] - 4s 63us/sample - loss: 0.3744 - acc: 0.8664\n",
      "Epoch 2/10\n",
      "60000/60000 [==============================] - 4s 64us/sample - loss: 0.3711 - acc: 0.8683\n",
      "Epoch 3/10\n",
      "60000/60000 [==============================] - 4s 64us/sample - loss: 0.3682 - acc: 0.8696\n",
      "Epoch 4/10\n",
      "60000/60000 [==============================] - 4s 63us/sample - loss: 0.3650 - acc: 0.8705\n",
      "Epoch 5/10\n",
      "60000/60000 [==============================] - 4s 62us/sample - loss: 0.3621 - acc: 0.8724\n",
      "Epoch 6/10\n",
      "60000/60000 [==============================] - 4s 62us/sample - loss: 0.3592 - acc: 0.8729\n",
      "Epoch 7/10\n",
      "60000/60000 [==============================] - 4s 62us/sample - loss: 0.3559 - acc: 0.8741\n",
      "Epoch 8/10\n",
      "60000/60000 [==============================] - 4s 63us/sample - loss: 0.3534 - acc: 0.8750\n",
      "Epoch 9/10\n",
      "60000/60000 [==============================] - 4s 61us/sample - loss: 0.3509 - acc: 0.8758\n",
      "Epoch 10/10\n",
      "60000/60000 [==============================] - 4s 61us/sample - loss: 0.3486 - acc: 0.8758\n"
     ]
    },
    {
     "data": {
      "text/plain": [
       "<tensorflow.python.keras.callbacks.History at 0x7f51f0196d68>"
      ]
     },
     "execution_count": 29,
     "metadata": {
      "tags": []
     },
     "output_type": "execute_result"
    }
   ],
   "source": [
    "model.fit(training_images,training_labels,epochs=10)"
   ]
  },
  {
   "cell_type": "code",
   "execution_count": 30,
   "metadata": {
    "colab": {
     "base_uri": "https://localhost:8080/",
     "height": 54
    },
    "colab_type": "code",
    "id": "li7SA0f-03PN",
    "outputId": "a4309d25-9ec6-41cd-9cb7-eb6053abb228"
   },
   "outputs": [
    {
     "name": "stdout",
     "output_type": "stream",
     "text": [
      "10000/10000 [==============================] - 0s 46us/sample - loss: 0.3955 - acc: 0.8592\n"
     ]
    },
    {
     "data": {
      "text/plain": [
       "[0.395496816778183, 0.8592]"
      ]
     },
     "execution_count": 30,
     "metadata": {
      "tags": []
     },
     "output_type": "execute_result"
    }
   ],
   "source": [
    "model.evaluate(test_images,test_labels)"
   ]
  },
  {
   "cell_type": "code",
   "execution_count": 39,
   "metadata": {
    "colab": {
     "base_uri": "https://localhost:8080/",
     "height": 54
    },
    "colab_type": "code",
    "id": "9NhlT7EO1aUu",
    "outputId": "5f7ff2f4-33f8-40f2-f9ef-5c3d4ec2084d"
   },
   "outputs": [
    {
     "name": "stdout",
     "output_type": "stream",
     "text": [
      "[1.0152008e-05 1.8807579e-05 3.7301157e-04 6.1757555e-03 3.8199119e-05\n",
      " 2.8969333e-01 6.2181105e-05 6.2065709e-01 8.2789637e-02 1.8187509e-04]\n"
     ]
    }
   ],
   "source": [
    "classifications = model.predict(test_images)\n",
    "print(classifications[12])"
   ]
  },
  {
   "cell_type": "code",
   "execution_count": 42,
   "metadata": {
    "colab": {
     "base_uri": "https://localhost:8080/",
     "height": 36
    },
    "colab_type": "code",
    "id": "yNaxXlcb249F",
    "outputId": "135ea4b0-1a30-4c82-b8d9-1743af732d54"
   },
   "outputs": [
    {
     "name": "stdout",
     "output_type": "stream",
     "text": [
      "[9 2 1 ... 8 1 5]\n"
     ]
    }
   ],
   "source": [
    "print(test_labels)"
   ]
  },
  {
   "cell_type": "code",
   "execution_count": 43,
   "metadata": {
    "colab": {
     "base_uri": "https://localhost:8080/",
     "height": 284
    },
    "colab_type": "code",
    "id": "KAvJRzIA3h0k",
    "outputId": "48bd083c-625c-49ae-d35f-7347b5a7dd2c"
   },
   "outputs": [
    {
     "data": {
      "text/plain": [
       "<matplotlib.image.AxesImage at 0x7f51986a9ac8>"
      ]
     },
     "execution_count": 43,
     "metadata": {
      "tags": []
     },
     "output_type": "execute_result"
    },
    {
     "data": {
      "image/png": "[encoded data removed]",
      "text/plain": [
       "<Figure size 432x288 with 1 Axes>"
      ]
     },
     "metadata": {
      "tags": []
     },
     "output_type": "display_data"
    }
   ],
   "source": [
    "plt.imshow(test_images[12])"
   ]
  },
  {
   "cell_type": "markdown",
   "metadata": {
    "colab_type": "text",
    "id": "6MjkJCC6_i8f"
   },
   "source": [
    "#We can do it for other dataset as well. In below example we're having handwritten numbers' dataset. And we'll be creating a model that will predict the handwritten number through the images."
   ]
  },
  {
   "cell_type": "code",
   "execution_count": 53,
   "metadata": {
    "colab": {
     "base_uri": "https://localhost:8080/",
     "height": 501
    },
    "colab_type": "code",
    "id": "1b9MOJdk3yla",
    "outputId": "f0061781-daea-408a-b4cd-cbf56abf28d4"
   },
   "outputs": [
    {
     "name": "stdout",
     "output_type": "stream",
     "text": [
      "Train on 60000 samples\n",
      "Epoch 1/10\n",
      "60000/60000 [==============================] - 4s 68us/sample - loss: 0.1841 - acc: 0.9452\n",
      "Epoch 2/10\n",
      "60000/60000 [==============================] - 4s 66us/sample - loss: 0.0738 - acc: 0.9775\n",
      "Epoch 3/10\n",
      "60000/60000 [==============================] - 4s 66us/sample - loss: 0.0489 - acc: 0.9850\n",
      "Epoch 4/10\n",
      "60000/60000 [==============================] - 4s 66us/sample - loss: 0.0352 - acc: 0.9887\n",
      "Epoch 5/10\n",
      "60000/60000 [==============================] - 4s 66us/sample - loss: 0.0257 - acc: 0.9917\n",
      "Epoch 6/10\n",
      "60000/60000 [==============================] - 4s 69us/sample - loss: 0.0212 - acc: 0.9928\n",
      "Epoch 7/10\n",
      "60000/60000 [==============================] - 4s 68us/sample - loss: 0.0174 - acc: 0.9944\n",
      "Epoch 8/10\n",
      "60000/60000 [==============================] - 4s 68us/sample - loss: 0.0145 - acc: 0.9952\n",
      "Epoch 9/10\n",
      "60000/60000 [==============================] - 4s 68us/sample - loss: 0.0130 - acc: 0.9954\n",
      "Epoch 10/10\n",
      "60000/60000 [==============================] - 4s 66us/sample - loss: 0.0111 - acc: 0.9964\n",
      "10000/10000 [==============================] - 0s 48us/sample - loss: 0.0894 - acc: 0.9827\n",
      "[1.94854898e-20 7.23397835e-17 1.07476487e-14 5.68430913e-10\n",
      " 1.16262754e-07 4.05019883e-14 3.62901630e-18 6.04435169e-10\n",
      " 1.02295397e-13 9.99999881e-01]\n",
      "9\n"
     ]
    }
   ],
   "source": [
    "import tensorflow as tf\n",
    "from tensorflow import keras\n",
    "mnist = tf.keras.datasets.mnist\n",
    "\n",
    "(train_images, train_labels), (testing_images,testing_labels) = mnist.load_data()\n",
    "\n",
    "train_images = train_images/255.0\n",
    "testing_images = testing_images/255.0\n",
    "\n",
    "model = tf.keras.models.Sequential([tf.keras.layers.Flatten(),\n",
    "                                   tf.keras.layers.Dense(1024,activation=tf.nn.relu),\n",
    "                                   tf.keras.layers.Dense(10,activation=tf.nn.softmax)])\n",
    "model.compile(optimizer='adam',\n",
    "              loss = 'sparse_categorical_crossentropy',\n",
    "              metrics=['accuracy'])\n",
    "model.fit(train_images,train_labels,epochs=10)\n",
    "model.evaluate(testing_images,testing_labels)\n",
    "\n",
    "classification = model.predict(testing_images)\n",
    "print(classification[12])\n",
    "print(testing_labels[12])"
   ]
  },
  {
   "cell_type": "code",
   "execution_count": 54,
   "metadata": {
    "colab": {
     "base_uri": "https://localhost:8080/",
     "height": 284
    },
    "colab_type": "code",
    "id": "_fwlmvTF6ZBx",
    "outputId": "c0f655fe-dfb2-4bcc-97f9-c9cf1e8d3d17"
   },
   "outputs": [
    {
     "data": {
      "text/plain": [
       "<matplotlib.image.AxesImage at 0x7f5198295ba8>"
      ]
     },
     "execution_count": 54,
     "metadata": {
      "tags": []
     },
     "output_type": "execute_result"
    },
    {
     "data": {
      "image/png": "[encoded data removed]",
      "text/plain": [
       "<Figure size 432x288 with 1 Axes>"
      ]
     },
     "metadata": {
      "tags": []
     },
     "output_type": "display_data"
    }
   ],
   "source": [
    "import matplotlib.pyplot as plt\n",
    "plt.imshow(testing_images[12])"
   ]
  },
  {
   "cell_type": "code",
   "execution_count": 0,
   "metadata": {
    "colab": {},
    "colab_type": "code",
    "id": "yFC44qr76fzR"
   },
   "outputs": [],
   "source": []
  }
 ],
 "metadata": {
  "accelerator": "GPU",
  "colab": {
   "name": "Fashion_mnist_Model.ipynb",
   "provenance": []
  },
  "kernelspec": {
   "display_name": "Python 3",
   "language": "python",
   "name": "python3"
  },
  "language_info": {
   "codemirror_mode": {
    "name": "ipython",
    "version": 3
   },
   "file_extension": ".py",
   "mimetype": "text/x-python",
   "name": "python",
   "nbconvert_exporter": "python",
   "pygments_lexer": "ipython3",
   "version": "3.7.4"
  }
 },
 "nbformat": 4,
 "nbformat_minor": 1
}
